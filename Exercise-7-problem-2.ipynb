{
 "cells": [
  {
   "cell_type": "markdown",
   "metadata": {
    "deletable": false,
    "editable": false,
    "nbgrader": {
     "cell_type": "markdown",
     "checksum": "49f518b775d50c158c25aa23c7af2419",
     "grade": false,
     "grade_id": "cell-293dda8f8456c85b",
     "locked": true,
     "schema_version": 3,
     "solution": false,
     "task": false
    }
   },
   "source": [
    "## Problem 2 - Plotting temperatures (7 points)\n",
    "\n",
    "In this problem we will  plot monthly mean temperatures from the Helsinki-Vantaa airpot for the past 30 years.\n",
    "\n",
    "The final output should look like this:\n",
    "![line plot](img/temp_line_plot.png)\n",
    "\n",
    "## Input data\n",
    "\n",
    "File `data/helsinki-vantaa.csv` monthly average temperatures from Helsinki Vantaa airport. Column descriptions:\n",
    "\n",
    "- `DATE`: YEAR-MONTH-DAY (the time stamp contains the first day of each month, but values in other columns are average values for the whole month!)\n",
    "- `USAF`: Station number\n",
    "- `TEMP_F`: Monthly mean temperature in Fahrenheit \n",
    "- `TEMP_C`: Monthly mean temperature in Celsius\n",
    "- `REF_TEMP_C`: Long term average in Celsius (for the period 1988-2018)\n",
    "- `DIFF_C`: Difference between monthly mean and long term average in Celsius\n",
    "\n",
    "\n",
    "### Part 1\n",
    "\n",
    "Load the Helsinki temperature data (`data/helsinki-vantaa.csv`)\n",
    "\n",
    "- Read the data into variable called `data` using pandas\n",
    "- Parse dates from the column `'DATE'` and set the dates as index in the dataframe "
   ]
  },
  {
   "cell_type": "code",
   "execution_count": 1,
   "metadata": {
    "deletable": false,
    "nbgrader": {
     "cell_type": "code",
     "checksum": "1de2fe9d5e2d4c7feec566ef111d6eac",
     "grade": false,
     "grade_id": "problem_2_ag_p1_read_data",
     "locked": false,
     "schema_version": 3,
     "solution": true
    }
   },
   "outputs": [],
   "source": [
    "import pandas as pd\n",
    "import matplotlib.pyplot as plt\n",
    "\n",
    "fp = r\"data/helsinki-vantaa.csv\"\n",
    "\n",
    "data = pd.read_csv(fp, \n",
    "#                  delim_whitespace=True, \n",
    "                   na_values=['*', '**', '***', '****', '*****', '******'],\n",
    "#                  usecols=['USAF', 'REF_TEMP_C', 'TEMP_C', 'DIFF_C', 'TEMP_F'],\n",
    "                   parse_dates=['DATE'], index_col='DATE')\n"
   ]
  },
  {
   "cell_type": "code",
   "execution_count": 2,
   "metadata": {
    "deletable": false,
    "editable": false,
    "nbgrader": {
     "cell_type": "code",
     "checksum": "beb719b8c69665fd00f7a3c49563ac1d",
     "grade": true,
     "grade_id": "problem_2_ag_p1_read_data_test1",
     "locked": true,
     "points": 0.5,
     "schema_version": 3,
     "solution": false
    }
   },
   "outputs": [
    {
     "name": "stdout",
     "output_type": "stream",
     "text": [
      "               USAF     TEMP_F    TEMP_C  REF_TEMP_C    DIFF_C\n",
      "DATE                                                          \n",
      "1952-01-01  29740.0  28.347826 -2.028986    -4.93665  2.907665\n",
      "1953-01-01  29740.0  22.190083 -5.449954    -4.93665 -0.513304\n",
      "1954-01-01  29740.0  19.864407 -6.741996    -4.93665 -1.805346\n",
      "1955-01-01  29740.0  22.583333 -5.231481    -4.93665 -0.294831\n",
      "1956-01-01  29740.0  18.254237 -7.636535    -4.93665 -2.699885\n"
     ]
    }
   ],
   "source": [
    "# This test print should print first five rows\n",
    "print(data.head())"
   ]
  },
  {
   "cell_type": "code",
   "execution_count": 3,
   "metadata": {
    "deletable": false,
    "editable": false,
    "nbgrader": {
     "cell_type": "code",
     "checksum": "193efae6faf5bd62ac3a9e4d978f609b",
     "grade": true,
     "grade_id": "problem_2_ag_p1_read_data_test2",
     "locked": true,
     "points": 0.5,
     "schema_version": 3,
     "solution": false,
     "task": false
    }
   },
   "outputs": [
    {
     "name": "stdout",
     "output_type": "stream",
     "text": [
      "706\n"
     ]
    }
   ],
   "source": [
    "# Check the number of rows in the data frame\n",
    "print(len(data))"
   ]
  },
  {
   "cell_type": "markdown",
   "metadata": {
    "deletable": false,
    "editable": false,
    "nbgrader": {
     "cell_type": "markdown",
     "checksum": "44b81cf33322e145e6a4a3bb40e6640b",
     "grade": false,
     "grade_id": "cell-97cb58eda54e413d",
     "locked": true,
     "schema_version": 3,
     "solution": false
    }
   },
   "source": [
    "### Part 2\n",
    "\n",
    "Select data for a 30 year period (January 1988 - December 2018)\n",
    "\n",
    "- Store the selection in a new variable `selection`"
   ]
  },
  {
   "cell_type": "code",
   "execution_count": 4,
   "metadata": {
    "deletable": false,
    "nbgrader": {
     "cell_type": "code",
     "checksum": "55d17b7b447cdc904489964dbd1342d5",
     "grade": false,
     "grade_id": "problem_2_ag_p2_select_data",
     "locked": false,
     "schema_version": 3,
     "solution": true
    }
   },
   "outputs": [],
   "source": [
    "selection = data.loc[(data.index >= '198801010000') & (data.index <= '201812312359')]"
   ]
  },
  {
   "cell_type": "code",
   "execution_count": 5,
   "metadata": {
    "deletable": false,
    "editable": false,
    "nbgrader": {
     "cell_type": "code",
     "checksum": "05473fe56472596759ac4ef31b550e9f",
     "grade": true,
     "grade_id": "problem_2_ag_p2_select_data_test1",
     "locked": true,
     "points": 1,
     "schema_version": 3,
     "solution": false
    }
   },
   "outputs": [
    {
     "data": {
      "text/html": [
       "<div>\n",
       "<style scoped>\n",
       "    .dataframe tbody tr th:only-of-type {\n",
       "        vertical-align: middle;\n",
       "    }\n",
       "\n",
       "    .dataframe tbody tr th {\n",
       "        vertical-align: top;\n",
       "    }\n",
       "\n",
       "    .dataframe thead th {\n",
       "        text-align: right;\n",
       "    }\n",
       "</style>\n",
       "<table border=\"1\" class=\"dataframe\">\n",
       "  <thead>\n",
       "    <tr style=\"text-align: right;\">\n",
       "      <th></th>\n",
       "      <th>USAF</th>\n",
       "      <th>TEMP_F</th>\n",
       "      <th>TEMP_C</th>\n",
       "      <th>REF_TEMP_C</th>\n",
       "      <th>DIFF_C</th>\n",
       "    </tr>\n",
       "    <tr>\n",
       "      <th>DATE</th>\n",
       "      <th></th>\n",
       "      <th></th>\n",
       "      <th></th>\n",
       "      <th></th>\n",
       "      <th></th>\n",
       "    </tr>\n",
       "  </thead>\n",
       "  <tbody>\n",
       "    <tr>\n",
       "      <th>1988-01-01</th>\n",
       "      <td>29740.0</td>\n",
       "      <td>27.404003</td>\n",
       "      <td>-2.553332</td>\n",
       "      <td>-4.93665</td>\n",
       "      <td>2.383318</td>\n",
       "    </tr>\n",
       "    <tr>\n",
       "      <th>1989-01-01</th>\n",
       "      <td>29740.0</td>\n",
       "      <td>31.553337</td>\n",
       "      <td>-0.248146</td>\n",
       "      <td>-4.93665</td>\n",
       "      <td>4.688504</td>\n",
       "    </tr>\n",
       "    <tr>\n",
       "      <th>1990-01-01</th>\n",
       "      <td>29740.0</td>\n",
       "      <td>25.030890</td>\n",
       "      <td>-3.871728</td>\n",
       "      <td>-4.93665</td>\n",
       "      <td>1.064922</td>\n",
       "    </tr>\n",
       "    <tr>\n",
       "      <th>1991-01-01</th>\n",
       "      <td>29740.0</td>\n",
       "      <td>26.592345</td>\n",
       "      <td>-3.004253</td>\n",
       "      <td>-4.93665</td>\n",
       "      <td>1.932397</td>\n",
       "    </tr>\n",
       "    <tr>\n",
       "      <th>1992-01-01</th>\n",
       "      <td>29740.0</td>\n",
       "      <td>29.107965</td>\n",
       "      <td>-1.606686</td>\n",
       "      <td>-4.93665</td>\n",
       "      <td>3.329964</td>\n",
       "    </tr>\n",
       "  </tbody>\n",
       "</table>\n",
       "</div>"
      ],
      "text/plain": [
       "               USAF     TEMP_F    TEMP_C  REF_TEMP_C    DIFF_C\n",
       "DATE                                                          \n",
       "1988-01-01  29740.0  27.404003 -2.553332    -4.93665  2.383318\n",
       "1989-01-01  29740.0  31.553337 -0.248146    -4.93665  4.688504\n",
       "1990-01-01  29740.0  25.030890 -3.871728    -4.93665  1.064922\n",
       "1991-01-01  29740.0  26.592345 -3.004253    -4.93665  1.932397\n",
       "1992-01-01  29740.0  29.107965 -1.606686    -4.93665  3.329964"
      ]
     },
     "execution_count": 5,
     "metadata": {},
     "output_type": "execute_result"
    }
   ],
   "source": [
    "# Check that the data was read in correctly:\n",
    "selection.head()"
   ]
  },
  {
   "cell_type": "code",
   "execution_count": 6,
   "metadata": {
    "deletable": false,
    "editable": false,
    "nbgrader": {
     "cell_type": "code",
     "checksum": "dd33f2a3d7639c1a59fe6ba2604b3063",
     "grade": true,
     "grade_id": "problem_2_ag_p2_select_data_test2",
     "locked": true,
     "points": 1,
     "schema_version": 3,
     "solution": false
    }
   },
   "outputs": [
    {
     "name": "stdout",
     "output_type": "stream",
     "text": [
      "Number of rows: 372\n"
     ]
    }
   ],
   "source": [
    "# Check how many rows of data you selected:\n",
    "print(\"Number of rows:\", len(selection))"
   ]
  },
  {
   "cell_type": "markdown",
   "metadata": {
    "deletable": false,
    "editable": false,
    "nbgrader": {
     "cell_type": "markdown",
     "checksum": "3ca1053431bb2d0ee41f1db5f100f8f2",
     "grade": false,
     "grade_id": "cell-322ca8ec0694eac9",
     "locked": true,
     "schema_version": 3,
     "solution": false
    }
   },
   "source": [
    "### Part 3\n",
    "\n",
    "#### Part 3.1\n",
    "\n",
    "Create a line plot that displays the temperatures (`TEMP_C`) for yeach month in the 30 year time period:\n",
    "     \n",
    "- Adjust line style:\n",
    "    - solid line \n",
    "    - black color\n",
    "    - round markers\n",
    "     \n",
    "- Add title and axis labels:\n",
    "    - title: `\"Helsinki-Vantaa Airport\"` \n",
    "    - X-label should be `\"Time\"`\n",
    "    - Y-label should be `\"Temperature (Celsius)\"`\n",
    "\n",
    "#### Part 3.2\n",
    "\n",
    "Save your figure as PNG file called `temp_line_plot.png`.\n",
    "\n",
    "**HINTS:**\n",
    "- Use `%matplotlib inline` to view the plot in this notebook \n",
    "- Control the figure size:\n",
    "    - Create a figure object and use the `figsize` parameter. \n",
    "    - The example figure uses `figsize=(14,6)` (you can experiment also with other figure sizes!)\n",
    "- You can control the marker size using parameter `markersize` when plotting. The example plot uses markersize 3.\n",
    "- You can add the grid lines using: `plt.grid()`."
   ]
  },
  {
   "cell_type": "code",
   "execution_count": 14,
   "metadata": {
    "deletable": false,
    "nbgrader": {
     "cell_type": "code",
     "checksum": "59377e00ff10b43d0b3d8b10c486c5db",
     "grade": true,
     "grade_id": "problem_2_mg_p3_plot_data",
     "locked": false,
     "points": 3,
     "schema_version": 3,
     "solution": true
    }
   },
   "outputs": [],
   "source": [
    "monthly = selection.loc[(selection.index >= '198801010000') & (selection.index < '201812312359')]\n",
    "monthly_temps = monthly['TEMP_C']"
   ]
  },
  {
   "cell_type": "code",
   "execution_count": 15,
   "metadata": {},
   "outputs": [
    {
     "data": {
      "image/png": "[encoded data removed]",
      "text/plain": [
       "<Figure size 432x288 with 1 Axes>"
      ]
     },
     "metadata": {
      "needs_background": "light"
     },
     "output_type": "display_data"
    }
   ],
   "source": [
    "ax1 = monthly_temps.plot()\n",
    "ax1.set_xlabel('Time')\n",
    "ax1.set_xlabel"
   ]
  },
  {
   "cell_type": "code",
   "execution_count": null,
   "metadata": {
    "deletable": false,
    "editable": false,
    "nbgrader": {
     "cell_type": "code",
     "checksum": "6bfc8310eaab53f18570372fc48ad27d",
     "grade": true,
     "grade_id": "problem_2_ag_p3_outputfile_test1",
     "locked": true,
     "points": 1,
     "schema_version": 3,
     "solution": false,
     "task": false
    }
   },
   "outputs": [],
   "source": [
    "import os\n",
    "\n",
    "#Check that output file exists (also open the file and check that the plot looks ok!)\n",
    "os.path.exists(outputfp)"
   ]
  },
  {
   "cell_type": "markdown",
   "metadata": {
    "deletable": false,
    "editable": false,
    "nbgrader": {
     "cell_type": "markdown",
     "checksum": "7ee89f54b4864f82e7c6b6f061d17b71",
     "grade": false,
     "grade_id": "cell-d006f551c24788b6",
     "locked": true,
     "schema_version": 3,
     "solution": false
    }
   },
   "source": [
    "**REMINDER**: Don't forget to upload your figure and the modified notebook into your personal GitHub repository!\n",
    "\n",
    "### Done!"
   ]
  },
  {
   "cell_type": "markdown",
   "metadata": {
    "deletable": false,
    "editable": false,
    "nbgrader": {
     "cell_type": "markdown",
     "checksum": "04964416518d54142b5b3d303435b0ca",
     "grade": false,
     "grade_id": "cell-f97296b534b7b10f",
     "locked": true,
     "schema_version": 3,
     "solution": false,
     "task": false
    }
   },
   "source": [
    "### Optional extra task: interactive plot\n",
    "\n",
    "Create an interactive version of the monthly temperatures using [Pandas Bokeh](https://github.com/PatrikHlobil/Pandas-Bokeh)!"
   ]
  },
  {
   "cell_type": "code",
   "execution_count": null,
   "metadata": {
    "deletable": false,
    "nbgrader": {
     "cell_type": "code",
     "checksum": "176269223d1779c7b2c76b750ecd86ad",
     "grade": true,
     "grade_id": "problem_2_mg_p4_import_bokeh",
     "locked": false,
     "points": 0,
     "schema_version": 3,
     "solution": true,
     "task": false
    }
   },
   "outputs": [],
   "source": [
    "# Import and enable pandas bokeh in this notebook\n",
    "\n",
    "# REPLACE THE ERROR BELOW WITH YOUR OWN CODE\n",
    "raise NotImplementedError()"
   ]
  },
  {
   "cell_type": "code",
   "execution_count": null,
   "metadata": {
    "deletable": false,
    "nbgrader": {
     "cell_type": "code",
     "checksum": "d2ddb8800df15992cf12f0c528f28ec4",
     "grade": true,
     "grade_id": "problem_2_mg_p4_plot_bokeh",
     "locked": false,
     "points": 0,
     "schema_version": 3,
     "solution": true,
     "task": false
    }
   },
   "outputs": [],
   "source": [
    "# Plot an interactive visualization of the monthly temperatures. \n",
    "# Note! You might have to re-order the data before plotting.\n",
    "\n",
    "# REPLACE THE ERROR BELOW WITH YOUR OWN CODE\n",
    "raise NotImplementedError()\n"
   ]
  }
 ],
 "metadata": {
  "kernelspec": {
   "display_name": "Python 3",
   "language": "python",
   "name": "python3"
  },
  "language_info": {
   "codemirror_mode": {
    "name": "ipython",
    "version": 3
   },
   "file_extension": ".py",
   "mimetype": "text/x-python",
   "name": "python",
   "nbconvert_exporter": "python",
   "pygments_lexer": "ipython3",
   "version": "3.7.8"
  }
 },
 "nbformat": 4,
 "nbformat_minor": 4
}
